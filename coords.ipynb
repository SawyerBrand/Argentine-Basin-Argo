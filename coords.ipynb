{
 "cells": [
  {
   "cell_type": "code",
   "execution_count": 1,
   "metadata": {},
   "outputs": [
    {
     "name": "stderr",
     "output_type": "stream",
     "text": [
      "/anaconda/lib/python3.6/site-packages/xarray/conventions.py:9: FutureWarning: The pandas.tslib module is deprecated and will be removed in a future version.\n",
      "  from pandas.tslib import OutOfBoundsDatetime\n"
     ]
    }
   ],
   "source": [
    "import numpy as np\n",
    "from matplotlib import pyplot as plt\n",
    "import xarray as xr\n",
    "import pandas as pd\n",
    "import cmocean\n",
    "import oceans\n",
    "import csv\n",
    "import gsw\n",
    "%matplotlib inline "
   ]
  },
  {
   "cell_type": "code",
   "execution_count": 2,
   "metadata": {},
   "outputs": [],
   "source": [
    "ds = xr.open_dataset('AGVA_v1.2_vel_2010.nc')"
   ]
  },
  {
   "cell_type": "code",
   "execution_count": 3,
   "metadata": {},
   "outputs": [
    {
     "data": {
      "text/plain": [
       "<xarray.Dataset>\n",
       "Dimensions:                              (latitude: 145, longitude: 360, month: 12, pressure: 29)\n",
       "Coordinates:\n",
       "  * month                                (month) int32 1 2 3 4 5 6 7 8 9 10 ...\n",
       "  * pressure                             (pressure) int32 5 10 20 30 50 75 ...\n",
       "  * latitude                             (latitude) int32 -75 -74 -73 -72 ...\n",
       "  * longitude                            (longitude) int32 0 1 2 3 4 5 6 7 8 ...\n",
       "Data variables:\n",
       "    zonal_velocity                       (month, pressure, latitude, longitude) float64 nan ...\n",
       "    meridional_velocity                  (month, pressure, latitude, longitude) float64 nan ...\n",
       "    geostrophic_streamfunction           (month, pressure, latitude, longitude) float64 nan ...\n",
       "    seasonal_stddev_zonal_velocity       (month, pressure, latitude, longitude) float64 nan ...\n",
       "    seasonal_stddev_meridional_velocity  (month, pressure, latitude, longitude) float64 nan ...\n",
       "    monthly_stddev_zonal_velocity        (month, pressure, latitude, longitude) float64 nan ...\n",
       "    monthly_stddev_meridional_velocity   (month, pressure, latitude, longitude) float64 nan ..."
      ]
     },
     "execution_count": 3,
     "metadata": {},
     "output_type": "execute_result"
    }
   ],
   "source": [
    "ds"
   ]
  },
  {
   "cell_type": "code",
   "execution_count": 5,
   "metadata": {},
   "outputs": [
    {
     "data": {
      "text/plain": [
       "(12, 29, 145, 360)"
      ]
     },
     "execution_count": 5,
     "metadata": {},
     "output_type": "execute_result"
    }
   ],
   "source": [
    "ds.geostrophic_streamfunction.shape"
   ]
  },
  {
   "cell_type": "code",
   "execution_count": 6,
   "metadata": {},
   "outputs": [
    {
     "data": {
      "text/plain": [
       "<matplotlib.contour.QuadContourSet at 0x11510a438>"
      ]
     },
     "execution_count": 6,
     "metadata": {},
     "output_type": "execute_result"
    },
    {
     "data": {
      "image/png": "[encoded data removed]",
      "text/plain": [
       "<matplotlib.figure.Figure at 0x1148752b0>"
      ]
     },
     "metadata": {
      "needs_background": "light"
     },
     "output_type": "display_data"
    }
   ],
   "source": [
    "plt.contourf(ds.longitude,ds.latitude,ds.geostrophic_streamfunction[1,28,:,:])"
   ]
  },
  {
   "cell_type": "code",
   "execution_count": null,
   "metadata": {},
   "outputs": [],
   "source": []
  }
 ],
 "metadata": {
  "kernelspec": {
   "display_name": "Python 3",
   "language": "python",
   "name": "python3"
  },
  "language_info": {
   "codemirror_mode": {
    "name": "ipython",
    "version": 3
   },
   "file_extension": ".py",
   "mimetype": "text/x-python",
   "name": "python",
   "nbconvert_exporter": "python",
   "pygments_lexer": "ipython3",
   "version": "3.6.7"
  }
 },
 "nbformat": 4,
 "nbformat_minor": 2
}
