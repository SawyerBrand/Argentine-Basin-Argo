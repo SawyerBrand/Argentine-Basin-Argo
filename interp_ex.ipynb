{
 "cells": [
  {
   "cell_type": "code",
   "execution_count": 2,
   "metadata": {},
   "outputs": [],
   "source": [
    "import numpy as np\n",
    "from matplotlib import pyplot as plt\n",
    "import xarray as xr\n",
    "import pandas as pd\n",
    "%matplotlib inline"
   ]
  },
  {
   "cell_type": "code",
   "execution_count": 3,
   "metadata": {},
   "outputs": [],
   "source": [
    "#read in float data\n",
    "float_id = '9099' # '9094'\n",
    "fd = xr.open_mfdataset('floatdata/' + float_id + 'SOOCNQC.nc')\n",
    "JULD = pd.to_datetime(fd.JULD.values)"
   ]
  },
  {
   "cell_type": "code",
   "execution_count": 6,
   "metadata": {},
   "outputs": [],
   "source": [
    "#define function to interpolate the data onto the standard depth grid given by x_int\n",
    "def interpolate(x_int, xvals, yvals):\n",
    "    yvals_int = []\n",
    "    for n in range(0, len(yvals)):\n",
    "        yvals_int.append(np.interp(x_int, xvals[n, :], yvals[n, :]))\n",
    "    #convert the interpolated data from a list to numpy array\n",
    "    return np.asarray(yvals_int)"
   ]
  },
  {
   "cell_type": "code",
   "execution_count": 7,
   "metadata": {},
   "outputs": [],
   "source": [
    "#interpolate nitrate and poc\n",
    "zi = np.arange(0, 2000, 5) #interpolate data onto constant depth grid from 0 to 2000m with 5m resolution\n",
    "nitr_int = interpolate(zi, fd.Pressure[:, ::-1], fd.Nitrate[:, ::-1])\n",
    "poc_int = interpolate(zi, fd.Pressure[:, ::-1], fd.POC[:, ::-1])"
   ]
  },
  {
   "cell_type": "code",
   "execution_count": null,
   "metadata": {},
   "outputs": [],
   "source": []
  }
 ],
 "metadata": {
  "kernelspec": {
   "display_name": "Python 3",
   "language": "python",
   "name": "python3"
  },
  "language_info": {
   "codemirror_mode": {
    "name": "ipython",
    "version": 3
   },
   "file_extension": ".py",
   "mimetype": "text/x-python",
   "name": "python",
   "nbconvert_exporter": "python",
   "pygments_lexer": "ipython3",
   "version": "3.6.7"
  }
 },
 "nbformat": 4,
 "nbformat_minor": 2
}
